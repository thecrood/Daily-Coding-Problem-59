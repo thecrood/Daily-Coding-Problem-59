{
 "cells": [
  {
   "cell_type": "markdown",
   "id": "8302a6be",
   "metadata": {},
   "source": [
    "# Daily Coding Problem 59"
   ]
  },
  {
   "cell_type": "raw",
   "id": "7b64375f",
   "metadata": {},
   "source": [
    "This problem was asked by Google.\n",
    "\n",
    "Implement a file syncing algorithm for two computers over a low-bandwidth network. What if we know the files in the two computers are mostly the same?"
   ]
  },
  {
   "cell_type": "code",
   "execution_count": null,
   "id": "506df09a",
   "metadata": {},
   "outputs": [],
   "source": [
    "// Use a Merkle Tree. https://en.wikipedia.org/wiki/Merkle_tree\n",
    "// The leaves of a Merkle Tree represents the files, while other nodes represents directories\n",
    "// If the root hash is the same, then both computers have the same files.\n",
    "// Else Compare both trees and sync files when the hash data is different"
   ]
  },
  {
   "cell_type": "code",
   "execution_count": null,
   "id": "03005940",
   "metadata": {},
   "outputs": [],
   "source": []
  },
  {
   "cell_type": "code",
   "execution_count": null,
   "id": "9304556c",
   "metadata": {},
   "outputs": [],
   "source": []
  },
  {
   "cell_type": "code",
   "execution_count": null,
   "id": "8d54510f",
   "metadata": {},
   "outputs": [],
   "source": []
  }
 ],
 "metadata": {
  "kernelspec": {
   "display_name": "Python 3 (ipykernel)",
   "language": "python",
   "name": "python3"
  },
  "language_info": {
   "codemirror_mode": {
    "name": "ipython",
    "version": 3
   },
   "file_extension": ".py",
   "mimetype": "text/x-python",
   "name": "python",
   "nbconvert_exporter": "python",
   "pygments_lexer": "ipython3",
   "version": "3.8.10"
  }
 },
 "nbformat": 4,
 "nbformat_minor": 5
}
